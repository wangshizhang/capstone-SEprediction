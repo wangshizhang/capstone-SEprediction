{
 "cells": [
  {
   "cell_type": "code",
   "execution_count": 1,
   "metadata": {},
   "outputs": [],
   "source": [
    "from __future__ import print_function\n",
    "import pandas as pd\n",
    "import numpy as np\n",
    "from PIL import Image\n",
    "import time\n",
    "import matplotlib.pyplot as plt\n",
    "import pickle\n",
    "\n",
    "import torch\n",
    "import torch.nn as nn\n",
    "from torch.nn import init\n",
    "import torchvision\n",
    "import torchvision.transforms as T\n",
    "import torch.optim as optim\n",
    "from torch.utils.data import DataLoader\n",
    "from torch.utils.data import sampler\n",
    "import torchvision.datasets as dset\n",
    "from torch.utils.data import Dataset\n",
    "\n",
    "import argparse\n",
    "import torch\n",
    "# import torch.tensor as tensor\n",
    "import torch.nn as nn\n",
    "import torch.nn.functional as F\n",
    "import torch.optim as optim\n",
    "import numpy as np\n",
    "import time\n",
    "import matplotlib.pyplot as plt\n",
    "from torchvision import datasets, transforms\n",
    "from torch.autograd import Variable\n",
    "from sklearn.metrics import average_precision_score\n",
    "\n",
    "from torchvision import models\n",
    "#from resnet import resnet50\n",
    "#from res2net import res2net50_48w_2s,res2net50_26w_8s,res2net50\n",
    "\n",
    "import os\n",
    "os.environ[\"KMP_DUPLICATE_LIB_OK\"]=\"TRUE\"\n",
    "#from resnet import resnet50\n"
   ]
  },
  {
   "cell_type": "code",
   "execution_count": 2,
   "metadata": {},
   "outputs": [],
   "source": [
    "def tensor(x):\n",
    "    return torch.tensor(x)"
   ]
  },
  {
   "cell_type": "code",
   "execution_count": 7,
   "metadata": {},
   "outputs": [
    {
     "name": "stdout",
     "output_type": "stream",
     "text": [
      "['D:\\\\desktop2\\\\new start learning', 'D:\\\\Anaconda\\\\envs\\\\CVenv\\\\python37.zip', 'D:\\\\Anaconda\\\\envs\\\\CVenv\\\\DLLs', 'D:\\\\Anaconda\\\\envs\\\\CVenv\\\\lib', 'D:\\\\Anaconda\\\\envs\\\\CVenv', '', 'C:\\\\Users\\\\王事\\\\AppData\\\\Roaming\\\\Python\\\\Python37\\\\site-packages', 'D:\\\\Anaconda\\\\envs\\\\CVenv\\\\lib\\\\site-packages', 'D:\\\\Anaconda\\\\envs\\\\CVenv\\\\lib\\\\site-packages\\\\win32', 'D:\\\\Anaconda\\\\envs\\\\CVenv\\\\lib\\\\site-packages\\\\win32\\\\lib', 'D:\\\\Anaconda\\\\envs\\\\CVenv\\\\lib\\\\site-packages\\\\Pythonwin', 'D:\\\\Anaconda\\\\envs\\\\CVenv\\\\lib\\\\site-packages\\\\IPython\\\\extensions', 'C:\\\\Users\\\\王事\\\\.ipython']\n"
     ]
    }
   ],
   "source": [
    "import sys\n",
    "print(sys.path)"
   ]
  },
  {
   "cell_type": "code",
   "execution_count": 10,
   "metadata": {},
   "outputs": [],
   "source": [
    "with open('D:\\\\desktop2\\\\new start learning\\cuhksz learning\\capstone\\huawei project-workspace\\capstone-SEprediction\\DataSet_2021_8_5_filter_combine_normalize.pkl', 'rb') as f:\n",
    "    X_train,y_train,X_val,y_val,X_test,y_test,y_max = pickle.load(f)"
   ]
  },
  {
   "cell_type": "code",
   "execution_count": 11,
   "metadata": {},
   "outputs": [
    {
     "name": "stdout",
     "output_type": "stream",
     "text": [
      "(1352314, 47) (1352314, 2) (29142, 47) (29142, 2) (128232, 47) (128232, 2)\n"
     ]
    }
   ],
   "source": [
    "print(X_train.shape,y_train.shape,X_val.shape,y_val.shape,X_test.shape,y_test.shape)"
   ]
  },
  {
   "cell_type": "code",
   "execution_count": 12,
   "metadata": {},
   "outputs": [],
   "source": [
    "def y2label(y_ori,y_max):\n",
    "    labels = np.zeros(y_ori.shape).astype(np.int32)+3\n",
    "    \n",
    "    labels[y_ori*y_max <= 3000] = 2\n",
    "    labels[y_ori*y_max <= 2000] = 1\n",
    "    labels[y_ori*y_max <= 1000] = 0\n",
    "    \n",
    "    return labels"
   ]
  },
  {
   "cell_type": "code",
   "execution_count": 13,
   "metadata": {},
   "outputs": [],
   "source": [
    "X_train = X_train[:,0:34]\n",
    "y_train = y_train[:,0]\n",
    "X_val = X_val[:,0:34]\n",
    "y_val = y_val[:,0]\n",
    "X_test = X_test[:,0:34]\n",
    "y_test = y_test[:,0]\n",
    "ylabel_train = y2label(y_train,y_max[0])\n",
    "ylabel_val = y2label(y_val,y_max[0])\n",
    "ylabel_test = y2label(y_test,y_max[0])"
   ]
  },
  {
   "cell_type": "code",
   "execution_count": null,
   "metadata": {},
   "outputs": [],
   "source": [
    "counts = [sum(ylabel_train == 0),sum(ylabel_train == 1),sum(ylabel_train == 2),sum(ylabel_train == 3)]"
   ]
  },
  {
   "cell_type": "code",
   "execution_count": 32,
   "metadata": {},
   "outputs": [
    {
     "data": {
      "text/plain": [
       "<BarContainer object of 4 artists>"
      ]
     },
     "execution_count": 32,
     "metadata": {},
     "output_type": "execute_result"
    },
    {
     "data": {
      "image/png": "[encoded data removed]",
      "text/plain": [
       "<Figure size 432x288 with 1 Axes>"
      ]
     },
     "metadata": {
      "needs_background": "light"
     },
     "output_type": "display_data"
    }
   ],
   "source": [
    "plt.bar(range(len(counts)),counts)"
   ]
  },
  {
   "cell_type": "code",
   "execution_count": 14,
   "metadata": {},
   "outputs": [],
   "source": [
    "class Train_Dataset(Dataset):\n",
    "    def __init__(self, path=\"DataSet_2021_8_5_filter_combine_normalize.pkl\",transform=None, target_transform=None):\n",
    "        \n",
    "        with open('DataSet_2021_8_5_filter_combine_normalize.pkl', 'rb') as f:\n",
    "            X_train,y_train,X_val,y_val,X_test,y_test,y_max = pickle.load(f)\n",
    "        \n",
    "        self.X_train = X_train[:,0:34]\n",
    "        self.y_train = y_train[:,0]\n",
    "        \n",
    "        self.transform = transform\n",
    "        self.target_transform = target_transform\n",
    "\n",
    "    def __len__(self):\n",
    "        return self.X_train.shape[0]\n",
    "\n",
    "    def __getitem__(self, idx):\n",
    "        \n",
    "        #image = torchvision.transforms.functional.to_tensor(np.array(image.resize((240,320),Image.BILINEAR)))\n",
    "        #label = tensor(self.label2vec(label))\n",
    "        \n",
    "        x_train = tensor(self.X_train[idx,:])\n",
    "        label = tensor(self.y_train[idx])\n",
    "    \n",
    "        return x_train,label\n",
    "\n",
    "class Val_Dataset(Dataset):\n",
    "    def __init__(self, path=\"DataSet_2021_8_5_filter_combine_normalize.pkl\",transform=None, target_transform=None):\n",
    "        \n",
    "        with open('DataSet_2021_8_5_filter_combine_normalize.pkl', 'rb') as f:\n",
    "            X_train,y_train,X_val,y_val,X_test,y_test,y_max = pickle.load(f)\n",
    "        \n",
    "        self.X_val = X_val[:,0:34]\n",
    "        self.y_val = y_val[:,0]\n",
    "        \n",
    "        self.transform = transform\n",
    "        self.target_transform = target_transform\n",
    "\n",
    "    def __len__(self):\n",
    "        return self.X_val.shape[0]\n",
    "\n",
    "    def __getitem__(self, idx):\n",
    "        \n",
    "        #image = torchvision.transforms.functional.to_tensor(np.array(image.resize((240,320),Image.BILINEAR)))\n",
    "        #label = tensor(self.label2vec(label))\n",
    "        \n",
    "        x_val = tensor(self.X_val[idx,:])\n",
    "        label = tensor(self.y_val[idx])\n",
    "    \n",
    "        return x_val,label\n",
    "\n",
    "class Test_Dataset(Dataset):\n",
    "    def __init__(self, path=\"DataSet_2021_8_5_filter_combine_normalize.pkl\",transform=None, target_transform=None):\n",
    "        \n",
    "        with open('DataSet_2021_8_5_filter_combine_normalize.pkl', 'rb') as f:\n",
    "            X_train,y_train,X_val,y_val,X_test,y_test,y_max = pickle.load(f)\n",
    "        \n",
    "        self.X_test = X_test[:,0:34]\n",
    "        self.y_test = y_test[:,0]\n",
    "        \n",
    "        self.transform = transform\n",
    "        self.target_transform = target_transform\n",
    "\n",
    "    def __len__(self):\n",
    "        return self.X_test.shape[0]\n",
    "\n",
    "    def __getitem__(self, idx):\n",
    "        \n",
    "        #image = torchvision.transforms.functional.to_tensor(np.array(image.resize((240,320),Image.BILINEAR)))\n",
    "        #label = tensor(self.label2vec(label))\n",
    "        \n",
    "        x_test = tensor(self.X_test[idx,:])\n",
    "        label = tensor(self.y_test[idx])\n",
    "    \n",
    "        return x_test,label"
   ]
  },
  {
   "cell_type": "code",
   "execution_count": 15,
   "metadata": {},
   "outputs": [],
   "source": [
    "class Train_Label_Dataset(Dataset):\n",
    "    def __init__(self, path=\"DataSet_2021_8_5_filter_combine_normalize.pkl\",transform=None, target_transform=None):\n",
    "        \n",
    "        with open('DataSet_2021_8_5_filter_combine_normalize.pkl', 'rb') as f:\n",
    "            X_train,y_train,X_val,y_val,X_test,y_test,y_max = pickle.load(f)\n",
    "        \n",
    "        self.X_train = X_train[:,0:34]\n",
    "        self.y_train = y2label(y_train[:,0],y_max[0])\n",
    "        \n",
    "        \n",
    "        self.transform = transform\n",
    "        self.target_transform = target_transform\n",
    "\n",
    "    def __len__(self):\n",
    "        return self.X_train.shape[0]\n",
    "\n",
    "    def __getitem__(self, idx):\n",
    "        \n",
    "        #image = torchvision.transforms.functional.to_tensor(np.array(image.resize((240,320),Image.BILINEAR)))\n",
    "        #label = tensor(self.label2vec(label))\n",
    "        \n",
    "        x_train = tensor(self.X_train[idx,:])\n",
    "        label = tensor(self.y_train[idx])\n",
    "    \n",
    "        return x_train,label\n",
    "\n",
    "class Val_Label_Dataset(Dataset):\n",
    "    def __init__(self, path=\"DataSet_2021_8_5_filter_combine_normalize.pkl\",transform=None, target_transform=None):\n",
    "        \n",
    "        with open('DataSet_2021_8_5_filter_combine_normalize.pkl', 'rb') as f:\n",
    "            X_train,y_train,X_val,y_val,X_test,y_test,y_max = pickle.load(f)\n",
    "        \n",
    "        self.X_val = X_val[:,0:34]\n",
    "        self.y_val = y2label(y_val[:,0],y_max[0])\n",
    "        \n",
    "        self.transform = transform\n",
    "        self.target_transform = target_transform\n",
    "\n",
    "    def __len__(self):\n",
    "        return self.X_val.shape[0]\n",
    "\n",
    "    def __getitem__(self, idx):\n",
    "        \n",
    "        #image = torchvision.transforms.functional.to_tensor(np.array(image.resize((240,320),Image.BILINEAR)))\n",
    "        #label = tensor(self.label2vec(label))\n",
    "        \n",
    "        x_val = tensor(self.X_val[idx,:])\n",
    "        label = tensor(self.y_val[idx])\n",
    "    \n",
    "        return x_val,label\n",
    "\n",
    "class Test_Label_Dataset(Dataset):\n",
    "    def __init__(self, path=\"DataSet_2021_8_5_filter_combine_normalize.pkl\",transform=None, target_transform=None):\n",
    "        \n",
    "        with open('DataSet_2021_8_5_filter_combine_normalize.pkl', 'rb') as f:\n",
    "            X_train,y_train,X_val,y_val,X_test,y_test,y_max = pickle.load(f)\n",
    "        \n",
    "        self.X_test = X_test[:,0:34]\n",
    "        self.y_test = y2label(y_test[:,0],y_max[0])\n",
    "        \n",
    "        self.transform = transform\n",
    "        self.target_transform = target_transform\n",
    "\n",
    "    def __len__(self):\n",
    "        return self.X_test.shape[0]\n",
    "\n",
    "    def __getitem__(self, idx):\n",
    "        \n",
    "        #image = torchvision.transforms.functional.to_tensor(np.array(image.resize((240,320),Image.BILINEAR)))\n",
    "        #label = tensor(self.label2vec(label))\n",
    "        \n",
    "        x_test = tensor(self.X_test[idx,:])\n",
    "        label = tensor(self.y_test[idx])\n",
    "    \n",
    "        return x_test,label"
   ]
  },
  {
   "cell_type": "code",
   "execution_count": 16,
   "metadata": {},
   "outputs": [],
   "source": [
    "def train_classifier(train_loader, classifier, criterion, optimizer,show_interval = 3000):\n",
    "    classifier.train()\n",
    "    loss_ = 0.0\n",
    "    losses = []\n",
    "    acc = []\n",
    "    for i, (images, labels) in enumerate(train_loader):\n",
    "        labels = torch.tensor(np.array(labels))\n",
    "        images, labels = images.to(torch.float32).to(device), labels.to(torch.int64).to(device)\n",
    "        \n",
    "        logits = classifier(images)\n",
    "        loss = criterion(logits,labels)\n",
    "        loss = loss.requires_grad_()\n",
    "        \n",
    "        if i % show_interval == 0:\n",
    "            print(i*args.batch_size)\n",
    "            acc_new = acc_cal(logits.detach(),labels)\n",
    "            acc += [acc_new]\n",
    "            \n",
    "        optimizer.zero_grad()\n",
    "        loss.backward()\n",
    "        optimizer.step()\n",
    "        losses.append(loss.detach())\n",
    "        \n",
    "    return torch.stack(losses).mean().item(),np.mean(acc)\n",
    "    \n",
    "def test_classifier(test_loader, classifier, criterion, print_ind_classes=True):\n",
    "    classifier.eval()\n",
    "    losses = []\n",
    "    acc = []\n",
    "    with torch.no_grad():\n",
    "        for i, (images, labels) in enumerate(test_loader):\n",
    "            labels = torch.tensor(np.array(labels))\n",
    "            images, labels = images.to(torch.float32).to(device), labels.to(torch.int64).to(device)\n",
    "\n",
    "            logits = classifier(images)\n",
    "            acc_new = acc_cal(logits,labels)\n",
    "            acc += [acc_new]\n",
    "            \n",
    "            loss = criterion(logits,labels)\n",
    "            losses.append(loss.detach())\n",
    "        \n",
    "        test_loss = torch.stack(losses).mean().item()\n",
    "    return test_loss,np.mean(acc)\n",
    "\n",
    "def acc_cal(logits,labels,show = False):\n",
    "    pred_labels = np.argmax(logits,1)\n",
    "    pred_flags = pred_labels == labels\n",
    "    acc = np.sum(pred_flags.numpy())/pred_labels.shape[0]\n",
    "    if(show):\n",
    "        print(pred_labels)\n",
    "    return acc"
   ]
  },
  {
   "cell_type": "markdown",
   "metadata": {},
   "source": [
    "### Hyper Parameters Settings"
   ]
  },
  {
   "cell_type": "code",
   "execution_count": 17,
   "metadata": {},
   "outputs": [],
   "source": [
    "class paras():\n",
    "    def __init__(self):\n",
    "        self.batch_size = None\n",
    "        self.classes = None"
   ]
  },
  {
   "cell_type": "code",
   "execution_count": 18,
   "metadata": {},
   "outputs": [],
   "source": [
    "args = paras()\n",
    "args.batch_size = 128\n",
    "#args.classes = 20"
   ]
  },
  {
   "cell_type": "markdown",
   "metadata": {},
   "source": [
    "### Dataloader Initial"
   ]
  },
  {
   "cell_type": "code",
   "execution_count": 21,
   "metadata": {},
   "outputs": [],
   "source": [
    "train_dataset = Train_Dataset()\n",
    "val_dataset = Val_Dataset()\n",
    "test_dataset = Test_Dataset()\n",
    "\n",
    "train_label_dataset = Train_Label_Dataset()\n",
    "val_label_dataset = Val_Label_Dataset()\n",
    "test_label_dataset = Test_Label_Dataset()"
   ]
  },
  {
   "cell_type": "code",
   "execution_count": 22,
   "metadata": {},
   "outputs": [],
   "source": [
    "train_dataloader = DataLoader(train_dataset, batch_size=args.batch_size, shuffle=False)\n",
    "val_dataloader = DataLoader(val_dataset, batch_size=args.batch_size, shuffle=True)\n",
    "test_dataloader = DataLoader(test_dataset, batch_size=args.batch_size, shuffle=True)"
   ]
  },
  {
   "cell_type": "code",
   "execution_count": 23,
   "metadata": {},
   "outputs": [],
   "source": [
    "train_label_dataloader = DataLoader(train_label_dataset, batch_size=args.batch_size, shuffle=False)\n",
    "val_label_dataloader = DataLoader(val_label_dataset, batch_size=args.batch_size, shuffle=True)\n",
    "test_label_dataloader = DataLoader(test_label_dataset, batch_size=args.batch_size, shuffle=True)"
   ]
  },
  {
   "cell_type": "markdown",
   "metadata": {},
   "source": [
    "### Model Initialize"
   ]
  },
  {
   "cell_type": "code",
   "execution_count": 24,
   "metadata": {},
   "outputs": [],
   "source": [
    "device = torch.device(\"cuda:0\" if torch.cuda.is_available() else \"cpu\")"
   ]
  },
  {
   "cell_type": "code",
   "execution_count": 25,
   "metadata": {},
   "outputs": [],
   "source": [
    "class MLP_BN(nn.Module):\n",
    "    def __init__(self, input_size,output_size):\n",
    "        super().__init__()\n",
    "        self.fc1 = nn.Linear(input_size, 2*input_size)\n",
    "        nn.init.kaiming_normal_(self.fc1.weight)\n",
    "        self.BN1 = nn.BatchNorm1d(2*input_size)\n",
    "        \n",
    "        self.fc2 = nn.Linear(2*input_size, 4*input_size)\n",
    "        nn.init.kaiming_normal_(self.fc2.weight)\n",
    "        self.BN2 = nn.BatchNorm1d(4*input_size)\n",
    "        \n",
    "        \n",
    "        self.fc3 = nn.Linear(4*input_size, input_size)\n",
    "        nn.init.kaiming_normal_(self.fc3.weight)\n",
    "        self.BN3 = nn.BatchNorm1d(input_size)\n",
    "        \n",
    "        self.fc4 = nn.Linear(input_size, 8)\n",
    "        nn.init.kaiming_normal_(self.fc4.weight)\n",
    "        self.BN4 = nn.BatchNorm1d(8)\n",
    "        \n",
    "        self.fc5 = nn.Linear(8, output_size)\n",
    "        nn.init.kaiming_normal_(self.fc5.weight)\n",
    "        \n",
    "        \n",
    "    \n",
    "    def forward(self, x):\n",
    "        # forward always defines connectivity\n",
    "        #x = flatten(x)\n",
    "        #scores = self.fc2(F.relu(self.fc1(x)))\n",
    "        #print(x.shape)\n",
    "        x = torch.tensor(x).to(torch.float32)\n",
    "        x = self.BN1(F.relu(self.fc1(x)))\n",
    "        x = self.BN2(F.relu(self.fc2(x)))\n",
    "        x = self.BN3(F.relu(self.fc3(x)))\n",
    "        x = self.BN4(F.relu(self.fc4(x)))\n",
    "        x = F.relu(self.fc5(x))\n",
    "        \n",
    "        return x\n",
    "    \n",
    "class DeepMLP(nn.Module):\n",
    "    def __init__(self, input_size,output_size):\n",
    "        super().__init__()\n",
    "        self.fc1 = nn.Linear(input_size, 2*input_size)\n",
    "        nn.init.kaiming_normal_(self.fc1.weight)\n",
    "        \n",
    "        self.fc2 = nn.Linear(2*input_size, 4*input_size)\n",
    "        nn.init.kaiming_normal_(self.fc2.weight)\n",
    "        \n",
    "        self.fc3 = nn.Linear(4*input_size, 8*input_size)\n",
    "        nn.init.kaiming_normal_(self.fc3.weight)\n",
    "        \n",
    "        self.fc4 = nn.Linear(8*input_size, input_size)\n",
    "        nn.init.kaiming_normal_(self.fc4.weight)\n",
    "        \n",
    "        self.fc5 = nn.Linear(input_size, input_size//4)\n",
    "        nn.init.kaiming_normal_(self.fc5.weight)\n",
    "        \n",
    "        self.fc6 = nn.Linear(input_size//4, output_size)\n",
    "        nn.init.kaiming_normal_(self.fc6.weight)\n",
    "        \n",
    "    \n",
    "    def forward(self, x):\n",
    "        # forward always defines connectivity\n",
    "        #x = flatten(x)\n",
    "        #scores = self.fc2(F.relu(self.fc1(x)))\n",
    "        #print(x.shape)\n",
    "        x0 = torch.tensor(x).to(torch.float32)\n",
    "        x = nn.LeakyReLU(0.3)(self.fc1(x0))\n",
    "        x = nn.LeakyReLU(0.2)(self.fc2(x))\n",
    "        x = nn.LeakyReLU(0.18)(self.fc3(x))\n",
    "        \n",
    "        x = nn.LeakyReLU(0.15)(self.fc4(x))+x0 #residual here\n",
    "        \n",
    "        x = nn.LeakyReLU(0.1)(self.fc5(x))\n",
    "        x = torch.sigmoid(self.fc6(x))\n",
    "        \n",
    "        return x    \n",
    "class TestMLP(nn.Module):\n",
    "    def __init__(self, input_size,output_size):\n",
    "        super().__init__()\n",
    "        self.fc1 = nn.Linear(input_size, 2*input_size)\n",
    "        nn.init.kaiming_normal_(self.fc1.weight)\n",
    "        \n",
    "        self.fc2 = nn.Linear(2*input_size, 4*input_size)\n",
    "        nn.init.kaiming_normal_(self.fc2.weight)\n",
    "        \n",
    "        self.fc3 = nn.Linear(4*input_size, input_size)\n",
    "        nn.init.kaiming_normal_(self.fc3.weight)\n",
    "        \n",
    "        self.fc4 = nn.Linear(input_size, 8)\n",
    "        nn.init.kaiming_normal_(self.fc4.weight)\n",
    "        \n",
    "        self.fc5 = nn.Linear(8, output_size)\n",
    "        nn.init.kaiming_normal_(self.fc5.weight)\n",
    "        \n",
    "        \n",
    "    \n",
    "    def forward(self, x):\n",
    "        # forward always defines connectivity\n",
    "        #x = flatten(x)\n",
    "        #scores = self.fc2(F.relu(self.fc1(x)))\n",
    "        #print(x.shape)\n",
    "        x = torch.tensor(x).to(torch.float32)\n",
    "        x = F.relu(self.fc1(x))\n",
    "        x = F.relu(self.fc2(x))\n",
    "        x = F.relu(self.fc3(x))\n",
    "        x = F.relu(self.fc4(x))\n",
    "        x = F.relu(self.fc5(x))\n",
    "        \n",
    "        return x"
   ]
  },
  {
   "cell_type": "markdown",
   "metadata": {},
   "source": [
    "model = DeepMLP(X_train.shape[1],1)\n",
    "classifier = model.to(device)\n",
    "\n",
    "criterion = torch.nn.L1Loss()\n",
    "criterion = criterion.to(device)"
   ]
  },
  {
   "cell_type": "code",
   "execution_count": 26,
   "metadata": {},
   "outputs": [],
   "source": [
    "# label classifier model\n",
    "model = TestMLP(X_train.shape[1],4)\n",
    "classifier = model.to(device)\n",
    "\n",
    "criterion = torch.nn.CrossEntropyLoss()\n",
    "criterion = criterion.to(device)"
   ]
  },
  {
   "cell_type": "markdown",
   "metadata": {},
   "source": [
    "### Optimizer Settings"
   ]
  },
  {
   "cell_type": "code",
   "execution_count": 27,
   "metadata": {},
   "outputs": [],
   "source": [
    "lr = 0.001\n",
    "moment = 0.8\n",
    "epoch_sum = 0\n",
    "\n",
    "optimizer = torch.optim.Adam(filter(lambda p: p.requires_grad, classifier.parameters()), lr=lr)\n",
    "# optimizer = torch.optim.SGD(filter(lambda p: p.requires_grad, classifier.parameters()), lr=lr, momentum=moment)"
   ]
  },
  {
   "cell_type": "code",
   "execution_count": 28,
   "metadata": {},
   "outputs": [],
   "source": [
    "if epoch_sum == 0:\n",
    "    train_loss_list = []\n",
    "    val_loss_list = []\n",
    "    val_f1_list = []\n",
    "    time_list = []"
   ]
  },
  {
   "cell_type": "code",
   "execution_count": 29,
   "metadata": {},
   "outputs": [
    {
     "name": "stdout",
     "output_type": "stream",
     "text": [
      "Starting epoch number 0\n",
      "0\n"
     ]
    },
    {
     "name": "stderr",
     "output_type": "stream",
     "text": [
      "D:\\Anaconda\\envs\\CVenv\\lib\\site-packages\\ipykernel_launcher.py:103: UserWarning: To copy construct from a tensor, it is recommended to use sourceTensor.clone().detach() or sourceTensor.clone().detach().requires_grad_(True), rather than torch.tensor(sourceTensor).\n"
     ]
    },
    {
     "name": "stdout",
     "output_type": "stream",
     "text": [
      "384000\n",
      "768000\n",
      "1152000\n",
      "Loss for Training on Epoch 0 is (0.5740236043930054, 0.720703125)\n",
      "Time for epoch 0 is 64.47961521148682\n",
      "Evaluating classifier\n",
      "Loss for validation on Epoch0 is (0.45661839842796326, 0.8116513349143206)\n",
      "Starting epoch number 1\n",
      "0\n",
      "384000\n",
      "768000\n",
      "1152000\n",
      "Loss for Training on Epoch 1 is (0.3839298486709595, 0.978515625)\n",
      "Time for epoch 1 is 70.31831955909729\n",
      "Evaluating classifier\n",
      "Loss for validation on Epoch1 is (0.4440048635005951, 0.8168923398612811)\n",
      "Starting epoch number 2\n",
      "0\n",
      "384000\n",
      "768000\n",
      "1152000\n",
      "Loss for Training on Epoch 2 is (0.36906948685646057, 0.978515625)\n",
      "Time for epoch 2 is 70.26450967788696\n",
      "Evaluating classifier\n",
      "Loss for validation on Epoch2 is (0.40066736936569214, 0.8439436390758874)\n",
      "Starting epoch number 3\n",
      "0\n",
      "384000\n",
      "768000\n",
      "1152000\n",
      "Loss for Training on Epoch 3 is (0.36219194531440735, 0.970703125)\n",
      "Time for epoch 3 is 66.93599700927734\n",
      "Evaluating classifier\n",
      "Loss for validation on Epoch3 is (0.3683343529701233, 0.8581127600979191)\n",
      "Starting epoch number 4\n",
      "0\n",
      "384000\n",
      "768000\n",
      "1152000\n",
      "Loss for Training on Epoch 4 is (0.35599440336227417, 0.96875)\n",
      "Time for epoch 4 is 70.76597166061401\n",
      "Evaluating classifier\n",
      "Loss for validation on Epoch4 is (0.35642796754837036, 0.8650678294573644)\n"
     ]
    }
   ],
   "source": [
    "# Train the Label Classifier Model\n",
    "NUM_EPOCHS = 5\n",
    "TEST_FREQUENCY = 1\n",
    "time_start = time.time()\n",
    "for epoch in range(1, NUM_EPOCHS+1):\n",
    "    time_epoch_start = time.time()\n",
    "    print(\"Starting epoch number \" + str(epoch_sum))\n",
    "    train_loss = train_classifier(train_label_dataloader, classifier, criterion, optimizer)\n",
    "    train_loss_list += [train_loss]\n",
    "    print(\"Loss for Training on Epoch \" +str(epoch_sum) + \" is \"+ str(train_loss))\n",
    "    \n",
    "    #plt.plot(train_loss_list)\n",
    "    time_epoch_end = time.time()\n",
    "    time_one_epoch = time_epoch_end - time_epoch_start\n",
    "    time_list += [time_one_epoch]\n",
    "    print(\"Time for epoch {} is {}\".format(epoch_sum,time_one_epoch))\n",
    "    \n",
    "    \n",
    "    if(epoch_sum%TEST_FREQUENCY==0):\n",
    "        val_loss= test_classifier(val_label_dataloader, classifier, criterion)\n",
    "        val_loss_list += [val_loss]\n",
    "        print('Evaluating classifier')\n",
    "        print(\"Loss for validation on Epoch\"+str(epoch_sum)+\" is \"+str(val_loss))\n",
    "    \n",
    "    epoch_sum += 1\n",
    "    \n",
    "    \n",
    "    "
   ]
  },
  {
   "cell_type": "code",
   "execution_count": 31,
   "metadata": {},
   "outputs": [],
   "source": [
    "torch.save(model,\"label_classifier.pt\")"
   ]
  },
  {
   "cell_type": "code",
   "execution_count": 24,
   "metadata": {},
   "outputs": [
    {
     "name": "stdout",
     "output_type": "stream",
     "text": [
      "Starting epoch number 0\n"
     ]
    },
    {
     "name": "stderr",
     "output_type": "stream",
     "text": [
      "/usr/local/lib/python3.6/dist-packages/ipykernel_launcher.py:67: UserWarning: To copy construct from a tensor, it is recommended to use sourceTensor.clone().detach() or sourceTensor.clone().detach().requires_grad_(True), rather than torch.tensor(sourceTensor).\n"
     ]
    },
    {
     "name": "stdout",
     "output_type": "stream",
     "text": [
      "0\n",
      "384000\n",
      "768000\n",
      "1152000\n"
     ]
    },
    {
     "data": {
      "image/png": "[encoded data removed]",
      "text/plain": [
       "<Figure size 432x288 with 1 Axes>"
      ]
     },
     "metadata": {
      "needs_background": "light"
     },
     "output_type": "display_data"
    },
    {
     "name": "stdout",
     "output_type": "stream",
     "text": [
      "Loss for Training on Epoch 0 is 0.05658872425556183\n",
      "Time for epoch 0 is 64.68477749824524\n",
      "Evaluating classifier\n",
      "Loss for validation on Epoch0 is 0.04390736669301987\n",
      "Starting epoch number 1\n",
      "0\n",
      "384000\n",
      "768000\n",
      "1152000\n"
     ]
    },
    {
     "data": {
      "image/png": "[encoded data removed]",
      "text/plain": [
       "<Figure size 432x288 with 1 Axes>"
      ]
     },
     "metadata": {
      "needs_background": "light"
     },
     "output_type": "display_data"
    },
    {
     "name": "stdout",
     "output_type": "stream",
     "text": [
      "Loss for Training on Epoch 1 is 0.04024404287338257\n",
      "Time for epoch 1 is 64.15565657615662\n",
      "Evaluating classifier\n",
      "Loss for validation on Epoch1 is 0.04367026686668396\n",
      "Starting epoch number 2\n",
      "0\n",
      "384000\n",
      "768000\n",
      "1152000\n"
     ]
    },
    {
     "data": {
      "image/png": "[encoded data removed]",
      "text/plain": [
       "<Figure size 432x288 with 1 Axes>"
      ]
     },
     "metadata": {
      "needs_background": "light"
     },
     "output_type": "display_data"
    },
    {
     "name": "stdout",
     "output_type": "stream",
     "text": [
      "Loss for Training on Epoch 2 is 0.038811322301626205\n",
      "Time for epoch 2 is 63.73570156097412\n",
      "Evaluating classifier\n",
      "Loss for validation on Epoch2 is 0.04307570308446884\n",
      "Starting epoch number 3\n",
      "0\n",
      "384000\n",
      "768000\n",
      "1152000\n"
     ]
    },
    {
     "data": {
      "image/png": "[encoded data removed]",
      "text/plain": [
       "<Figure size 432x288 with 1 Axes>"
      ]
     },
     "metadata": {
      "needs_background": "light"
     },
     "output_type": "display_data"
    },
    {
     "name": "stdout",
     "output_type": "stream",
     "text": [
      "Loss for Training on Epoch 3 is 0.03812848776578903\n",
      "Time for epoch 3 is 63.73891830444336\n",
      "Evaluating classifier\n",
      "Loss for validation on Epoch3 is 0.04185357317328453\n",
      "Starting epoch number 4\n",
      "0\n",
      "384000\n",
      "768000\n",
      "1152000\n"
     ]
    },
    {
     "data": {
      "image/png": "[encoded data removed]",
      "text/plain": [
       "<Figure size 432x288 with 1 Axes>"
      ]
     },
     "metadata": {
      "needs_background": "light"
     },
     "output_type": "display_data"
    },
    {
     "name": "stdout",
     "output_type": "stream",
     "text": [
      "Loss for Training on Epoch 4 is 0.037698905915021896\n",
      "Time for epoch 4 is 64.55167841911316\n",
      "Evaluating classifier\n",
      "Loss for validation on Epoch4 is 0.041122011840343475\n"
     ]
    }
   ],
   "source": [
    "# Train the Classifier Model\n",
    "NUM_EPOCHS = 5\n",
    "TEST_FREQUENCY = 1\n",
    "time_start = time.time()\n",
    "for epoch in range(1, NUM_EPOCHS+1):\n",
    "    time_epoch_start = time.time()\n",
    "    print(\"Starting epoch number \" + str(epoch_sum))\n",
    "    train_loss = train_classifier(train_dataloader, classifier, criterion, optimizer)\n",
    "    train_loss_list += [train_loss]\n",
    "    print(\"Loss for Training on Epoch \" +str(epoch_sum) + \" is \"+ str(train_loss))\n",
    "    \n",
    "    #plt.plot(train_loss_list)\n",
    "    time_epoch_end = time.time()\n",
    "    time_one_epoch = time_epoch_end - time_epoch_start\n",
    "    time_list += [time_one_epoch]\n",
    "    print(\"Time for epoch {} is {}\".format(epoch_sum,time_one_epoch))\n",
    "    \n",
    "    \n",
    "    if(epoch_sum%TEST_FREQUENCY==0):\n",
    "        val_loss= test_classifier(val_dataloader, classifier, criterion)\n",
    "        val_loss_list += [val_loss]\n",
    "        print('Evaluating classifier')\n",
    "        print(\"Loss for validation on Epoch\"+str(epoch_sum)+\" is \"+str(val_loss))\n",
    "    \n",
    "    epoch_sum += 1\n",
    "    \n",
    "    \n",
    "    "
   ]
  },
  {
   "cell_type": "code",
   "execution_count": 25,
   "metadata": {},
   "outputs": [
    {
     "data": {
      "text/plain": [
       "Text(0.5, 1.0, 'Loss Curve')"
      ]
     },
     "execution_count": 25,
     "metadata": {},
     "output_type": "execute_result"
    },
    {
     "data": {
      "image/png": "[encoded data removed]",
      "text/plain": [
       "<Figure size 432x288 with 1 Axes>"
      ]
     },
     "metadata": {
      "needs_background": "light"
     },
     "output_type": "display_data"
    }
   ],
   "source": [
    "plt.plot(train_loss_list,label=\"Train Loss\")\n",
    "plt.plot(val_loss_list,label=\"Validation Loss\")\n",
    "\n",
    "plt.legend()\n",
    "plt.title(\"Loss Curve\")"
   ]
  },
  {
   "cell_type": "code",
   "execution_count": 111,
   "metadata": {},
   "outputs": [],
   "source": [
    "#torch.save(classifier,\"Only_MLP_\"+\"epoch{}.pt\".format(epoch_sum))"
   ]
  },
  {
   "cell_type": "markdown",
   "metadata": {},
   "source": [
    "### Predict with test dataset"
   ]
  },
  {
   "cell_type": "code",
   "execution_count": 1,
   "metadata": {},
   "outputs": [],
   "source": [
    "def predict_se(model, X_test, y_test, dataset_SE_max, plot=True):\n",
    "    print(\"[INFO] predicting...\")\n",
    "    X_test = torch.tensor(X_test).to(device)\n",
    "    preds = model.forward(X_test)\n",
    "    preds = preds.cpu().detach().numpy().flatten()\n",
    "    y_test = y_test.flatten()\n",
    "    diff = abs(preds-y_test)*dataset_SE_max\n",
    "    # choose how many bins you want here\n",
    "    num_bins = 30\n",
    "    # use the histogram function to bin the data\n",
    "    counts, bin_edges = np.histogram(diff, bins=num_bins)\n",
    "    # now find the cdf\n",
    "    cdf = np.cumsum(counts)\n",
    "    # and finally plot the cdf\n",
    "    if plot:\n",
    "        plt.plot(bin_edges[1:], cdf)\n",
    "        plt.xlabel('Absolute Error (Mbit/Number)')\n",
    "        plt.ylabel('Count')\n",
    "        plt.title('Error CDF')\n",
    "        plt.show()\n",
    "    diff_percen = abs(preds-y_test)/y_test\n",
    "    mean = np.mean(abs(diff))\n",
    "    std = np.std(diff)\n",
    "    print(\"[INFO] error mean: {:.3f}, std: {:.3f}\".format(mean, std))\n",
    "    mean = np.mean(abs(diff_percen))\n",
    "    std = np.std(diff_percen)\n",
    "    print(\"[INFO] percentage error mean: {:.3f}, std: {:.3f}\" .format(mean, std))\n",
    "    axis_lim = y_test.mean()*dataset_SE_max*2\n",
    "    # mean absolute percentage error by sections\n",
    "    diff_with_y = np.hstack((y_test[:,np.newaxis]*dataset_SE_max, diff_percen[:,np.newaxis]))\n",
    "    sort_indices = np.argsort(diff_with_y[:,0])\n",
    "    diff_with_y = diff_with_y[sort_indices,:]\n",
    "    mape_sections = np.array([1000, 1500, 2500, np.iinfo(int).max])\n",
    "    mape_sections_mean = np.empty(len(mape_sections))\n",
    "    idx_section = 0\n",
    "    diff_id_section = 0\n",
    "    for i in range(len(diff_with_y)):\n",
    "        if diff_with_y[i,0]>mape_sections[idx_section] or i == len(diff_with_y)-1:\n",
    "            mape_sections_mean[idx_section] = np.mean(diff_with_y[diff_id_section:i,1])\n",
    "            diff_id_section = i\n",
    "            idx_section = idx_section + 1\n",
    "    print(\"[INFO] MAPE by sections: \", np.around(mape_sections_mean, decimals=2))\n",
    "    if plot:\n",
    "        plt.figure()\n",
    "        plt.plot(preds.flatten()*dataset_SE_max, y_test*dataset_SE_max, '.')\n",
    "        plt.plot([0, axis_lim], [0, axis_lim])\n",
    "        plt.axis([0, axis_lim, 0, axis_lim])\n",
    "        plt.xlabel('Prediction (Mbit/Number)')\n",
    "        plt.ylabel('Ground Truth (Mbit/Number)')\n",
    "        plt.title('Spectral Efficiency')\n",
    "        plt.show()\n",
    "\n",
    "def VisPredict(model,plotOn,X_train,y_train,X_val,y_val,X_test,y_test,dataset_SE_max):\n",
    "    # make predictions on the testing data\n",
    "    predict_se(model, X_train, y_train, dataset_SE_max, plotOn)\n",
    "    predict_se(model, X_val, y_val, dataset_SE_max, plotOn)\n",
    "    predict_se(model, X_test, y_test, dataset_SE_max, plotOn)\n",
    "    if plotOn:\n",
    "        dot_img_file = 'figures/model_1.png'\n",
    "        #tf.keras.utils.plot_model(model, to_file=dot_img_file, show_shapes=True)"
   ]
  },
  {
   "cell_type": "markdown",
   "metadata": {},
   "source": [
    "### Predict Results"
   ]
  },
  {
   "cell_type": "code",
   "execution_count": 2,
   "metadata": {},
   "outputs": [
    {
     "ename": "NameError",
     "evalue": "name 'torch' is not defined",
     "output_type": "error",
     "traceback": [
      "\u001b[1;31m---------------------------------------------------------------------------\u001b[0m",
      "\u001b[1;31mNameError\u001b[0m                                 Traceback (most recent call last)",
      "\u001b[1;32m<ipython-input-2-9da14173e49b>\u001b[0m in \u001b[0;36m<module>\u001b[1;34m\u001b[0m\n\u001b[1;32m----> 1\u001b[1;33m \u001b[0mtorch\u001b[0m\u001b[1;33m.\u001b[0m\u001b[0mcuda\u001b[0m\u001b[1;33m.\u001b[0m\u001b[0mempty_cache\u001b[0m \u001b[1;33m(\u001b[0m\u001b[1;33m)\u001b[0m\u001b[1;33m\u001b[0m\u001b[1;33m\u001b[0m\u001b[0m\n\u001b[0m\u001b[0;32m      2\u001b[0m \u001b[0mVisPredict\u001b[0m\u001b[1;33m(\u001b[0m\u001b[0mmodel\u001b[0m\u001b[1;33m,\u001b[0m\u001b[1;32mTrue\u001b[0m\u001b[1;33m,\u001b[0m\u001b[0mX_train\u001b[0m\u001b[1;33m,\u001b[0m\u001b[0my_train\u001b[0m\u001b[1;33m,\u001b[0m\u001b[0mX_val\u001b[0m\u001b[1;33m,\u001b[0m\u001b[0my_val\u001b[0m\u001b[1;33m,\u001b[0m\u001b[0mX_test\u001b[0m\u001b[1;33m,\u001b[0m\u001b[0my_test\u001b[0m\u001b[1;33m,\u001b[0m\u001b[0my_max\u001b[0m\u001b[1;33m[\u001b[0m\u001b[1;36m0\u001b[0m\u001b[1;33m,\u001b[0m\u001b[1;36m0\u001b[0m\u001b[1;33m]\u001b[0m\u001b[1;33m)\u001b[0m\u001b[1;33m\u001b[0m\u001b[1;33m\u001b[0m\u001b[0m\n",
      "\u001b[1;31mNameError\u001b[0m: name 'torch' is not defined"
     ]
    }
   ],
   "source": [
    "torch.cuda.empty_cache ()\n",
    "VisPredict(model,True,X_train,y_train,X_val,y_val,X_test,y_test,y_max[0,0])"
   ]
  },
  {
   "cell_type": "code",
   "execution_count": null,
   "metadata": {
    "collapsed": true,
    "jupyter": {
     "outputs_hidden": true
    }
   },
   "outputs": [],
   "source": []
  },
  {
   "cell_type": "code",
   "execution_count": null,
   "metadata": {},
   "outputs": [],
   "source": []
  },
  {
   "cell_type": "code",
   "execution_count": null,
   "metadata": {},
   "outputs": [],
   "source": []
  },
  {
   "cell_type": "code",
   "execution_count": null,
   "metadata": {},
   "outputs": [],
   "source": []
  }
 ],
 "metadata": {
  "interpreter": {
   "hash": "d5146f3029d6424cdc6ef191d54c22462012605892d6b80a61222a44e90cce02"
  },
  "kernelspec": {
   "display_name": "Python 3",
   "language": "python",
   "name": "python3"
  }
 },
 "nbformat": 4,
 "nbformat_minor": 5
}
