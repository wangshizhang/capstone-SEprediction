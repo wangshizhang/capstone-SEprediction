{
 "cells": [
  {
   "cell_type": "code",
   "execution_count": 33,
   "id": "83bd1b35",
   "metadata": {},
   "outputs": [],
   "source": [
    "from __future__ import print_function\n",
    "import pandas as pd\n",
    "import numpy as np\n",
    "from PIL import Image\n",
    "import time\n",
    "import matplotlib.pyplot as plt\n",
    "import pickle\n",
    "\n",
    "import torch\n",
    "import torch.nn as nn\n",
    "from torch.nn import init\n",
    "import torchvision\n",
    "import torchvision.transforms as T\n",
    "import torch.optim as optim\n",
    "from torch.utils.data import DataLoader\n",
    "from torch.utils.data import sampler\n",
    "import torchvision.datasets as dset\n",
    "from torch.utils.data import Dataset\n",
    "\n",
    "import argparse\n",
    "import torch\n",
    "# import torch.tensor as tensor\n",
    "import torch.nn as nn\n",
    "import torch.nn.functional as F\n",
    "import torch.optim as optim\n",
    "import numpy as np\n",
    "import time\n",
    "import matplotlib.pyplot as plt\n",
    "from torchvision import datasets, transforms\n",
    "from torch.autograd import Variable\n",
    "from sklearn.metrics import average_precision_score\n",
    "from sklearn.metrics import f1_score\n",
    "\n",
    "from torchvision import models\n",
    "#from resnet import resnet50\n",
    "#from res2net import res2net50_48w_2s,res2net50_26w_8s,res2net50\n",
    "\n",
    "import os\n",
    "os.environ[\"KMP_DUPLICATE_LIB_OK\"]=\"TRUE\"\n",
    "#from resnet import resnet50\n"
   ]
  },
  {
   "cell_type": "code",
   "execution_count": 2,
   "id": "c2b52663",
   "metadata": {},
   "outputs": [],
   "source": [
    "def tensor(x):\n",
    "    return torch.tensor(x)"
   ]
  },
  {
   "cell_type": "code",
   "execution_count": 3,
   "id": "41d6e796",
   "metadata": {},
   "outputs": [],
   "source": [
    "with open('DataSet_2021_8_5_filter_combine_normalize.pkl', 'rb') as f:\n",
    "    X_train,y_train,X_val,y_val,X_test,y_test,y_max = pickle.load(f)"
   ]
  },
  {
   "cell_type": "code",
   "execution_count": 4,
   "id": "913b14d5",
   "metadata": {},
   "outputs": [
    {
     "name": "stdout",
     "output_type": "stream",
     "text": [
      "(1352314, 47) (1352314, 2) (29142, 47) (29142, 2) (128232, 47) (128232, 2)\n"
     ]
    }
   ],
   "source": [
    "print(X_train.shape,y_train.shape,X_val.shape,y_val.shape,X_test.shape,y_test.shape)"
   ]
  },
  {
   "cell_type": "markdown",
   "id": "3719a26b",
   "metadata": {},
   "source": [
    "### Dataset process for label training - split original dataset and transfer labels"
   ]
  },
  {
   "cell_type": "code",
   "execution_count": 5,
   "id": "b647fb45",
   "metadata": {},
   "outputs": [],
   "source": [
    "def label_transfer(labels,transfer_pairs):\n",
    "    for pair in transfer_pairs:\n",
    "        print(labels==pair[0])\n",
    "        labels[labels==pair[0]] = pair[1]\n",
    "    return labels"
   ]
  },
  {
   "cell_type": "code",
   "execution_count": 6,
   "id": "52c9fd9b",
   "metadata": {},
   "outputs": [],
   "source": [
    "def y2label(y_ori,y_max):\n",
    "    labels = np.zeros(y_ori.shape).astype(np.int32)+3\n",
    "    \n",
    "    labels[y_ori*y_max <= 2250] = 2\n",
    "    labels[y_ori*y_max <= 1850] = 1\n",
    "    labels[y_ori*y_max <= 1350] = 0\n",
    "    \n",
    "    return labels"
   ]
  },
  {
   "cell_type": "code",
   "execution_count": 7,
   "id": "373b9bee",
   "metadata": {},
   "outputs": [],
   "source": [
    "X_train = X_train[:,0:34]\n",
    "y_train = y_train[:,0]\n",
    "X_val = X_val[:,0:34]\n",
    "y_val = y_val[:,0]\n",
    "X_test = X_test[:,0:34]\n",
    "y_test = y_test[:,0]\n",
    "ylabel_train = y2label(y_train,y_max[0])\n",
    "ylabel_val = y2label(y_val,y_max[0])\n",
    "ylabel_test = y2label(y_test,y_max[0])"
   ]
  },
  {
   "cell_type": "code",
   "execution_count": 8,
   "id": "0e005fdc",
   "metadata": {},
   "outputs": [],
   "source": [
    "counts = [sum(ylabel_train == 0),sum(ylabel_train == 1),sum(ylabel_train == 2),sum(ylabel_train == 3)]"
   ]
  },
  {
   "cell_type": "code",
   "execution_count": 34,
   "id": "f412932f",
   "metadata": {},
   "outputs": [
    {
     "data": {
      "text/plain": [
       "<BarContainer object of 4 artists>"
      ]
     },
     "execution_count": 34,
     "metadata": {},
     "output_type": "execute_result"
    },
    {
     "data": {
      "image/png": "[encoded data removed]",
      "text/plain": [
       "<Figure size 432x288 with 1 Axes>"
      ]
     },
     "metadata": {
      "needs_background": "light"
     },
     "output_type": "display_data"
    }
   ],
   "source": [
    "plt.bar(range(len(counts)),counts)"
   ]
  },
  {
   "cell_type": "code",
   "execution_count": 10,
   "id": "d16f53b4",
   "metadata": {},
   "outputs": [],
   "source": [
    "class Train_Dataset(Dataset):\n",
    "    def __init__(self, path=\"DataSet_2021_8_5_filter_combine_normalize.pkl\",transform=None, target_transform=None):\n",
    "        \n",
    "        with open('DataSet_2021_8_5_filter_combine_normalize.pkl', 'rb') as f:\n",
    "            X_train,y_train,X_val,y_val,X_test,y_test,y_max = pickle.load(f)\n",
    "        \n",
    "        self.X_train = X_train[:,0:34]\n",
    "        self.y_train = y_train[:,0]\n",
    "        \n",
    "        self.transform = transform\n",
    "        self.target_transform = target_transform\n",
    "\n",
    "    def __len__(self):\n",
    "        return self.X_train.shape[0]\n",
    "\n",
    "    def __getitem__(self, idx):\n",
    "        \n",
    "        #image = torchvision.transforms.functional.to_tensor(np.array(image.resize((240,320),Image.BILINEAR)))\n",
    "        #label = tensor(self.label2vec(label))\n",
    "        \n",
    "        x_train = tensor(self.X_train[idx,:])\n",
    "        label = tensor(self.y_train[idx])\n",
    "    \n",
    "        return x_train,label\n",
    "\n",
    "class Val_Dataset(Dataset):\n",
    "    def __init__(self, path=\"DataSet_2021_8_5_filter_combine_normalize.pkl\",transform=None, target_transform=None):\n",
    "        \n",
    "        with open('DataSet_2021_8_5_filter_combine_normalize.pkl', 'rb') as f:\n",
    "            X_train,y_train,X_val,y_val,X_test,y_test,y_max = pickle.load(f)\n",
    "        \n",
    "        self.X_val = X_val[:,0:34]\n",
    "        self.y_val = y_val[:,0]\n",
    "        \n",
    "        self.transform = transform\n",
    "        self.target_transform = target_transform\n",
    "\n",
    "    def __len__(self):\n",
    "        return self.X_val.shape[0]\n",
    "\n",
    "    def __getitem__(self, idx):\n",
    "        \n",
    "        #image = torchvision.transforms.functional.to_tensor(np.array(image.resize((240,320),Image.BILINEAR)))\n",
    "        #label = tensor(self.label2vec(label))\n",
    "        \n",
    "        x_val = tensor(self.X_val[idx,:])\n",
    "        label = tensor(self.y_val[idx])\n",
    "    \n",
    "        return x_val,label\n",
    "\n",
    "class Test_Dataset(Dataset):\n",
    "    def __init__(self, path=\"DataSet_2021_8_5_filter_combine_normalize.pkl\",transform=None, target_transform=None):\n",
    "        \n",
    "        with open('DataSet_2021_8_5_filter_combine_normalize.pkl', 'rb') as f:\n",
    "            X_train,y_train,X_val,y_val,X_test,y_test,y_max = pickle.load(f)\n",
    "        \n",
    "        self.X_test = X_test[:,0:34]\n",
    "        self.y_test = y_test[:,0]\n",
    "        \n",
    "        self.transform = transform\n",
    "        self.target_transform = target_transform\n",
    "\n",
    "    def __len__(self):\n",
    "        return self.X_test.shape[0]\n",
    "\n",
    "    def __getitem__(self, idx):\n",
    "        \n",
    "        #image = torchvision.transforms.functional.to_tensor(np.array(image.resize((240,320),Image.BILINEAR)))\n",
    "        #label = tensor(self.label2vec(label))\n",
    "        \n",
    "        x_test = tensor(self.X_test[idx,:])\n",
    "        label = tensor(self.y_test[idx])\n",
    "    \n",
    "        return x_test,label"
   ]
  },
  {
   "cell_type": "code",
   "execution_count": 11,
   "id": "be607440",
   "metadata": {},
   "outputs": [],
   "source": [
    "class Train_Label_Dataset(Dataset):\n",
    "    def __init__(self, path=\"DataSet_2021_8_5_filter_combine_normalize.pkl\",transform=None, target_transform=None):\n",
    "        \n",
    "        with open('DataSet_2021_8_5_filter_combine_normalize.pkl', 'rb') as f:\n",
    "            X_train,y_train,X_val,y_val,X_test,y_test,y_max = pickle.load(f)\n",
    "        \n",
    "        self.X_train = X_train[:,0:34]\n",
    "        self.y_train = y2label(y_train[:,0],y_max[0])\n",
    "        \n",
    "        \n",
    "        self.transform = transform\n",
    "        self.target_transform = target_transform\n",
    "\n",
    "    def __len__(self):\n",
    "        return self.X_train.shape[0]\n",
    "\n",
    "    def __getitem__(self, idx):\n",
    "        \n",
    "        #image = torchvision.transforms.functional.to_tensor(np.array(image.resize((240,320),Image.BILINEAR)))\n",
    "        #label = tensor(self.label2vec(label))\n",
    "        \n",
    "        x_train = tensor(self.X_train[idx,:])\n",
    "        label = tensor(self.y_train[idx])\n",
    "    \n",
    "        return x_train,label\n",
    "\n",
    "class Val_Label_Dataset(Dataset):\n",
    "    def __init__(self, path=\"DataSet_2021_8_5_filter_combine_normalize.pkl\",transform=None, target_transform=None):\n",
    "        \n",
    "        with open('DataSet_2021_8_5_filter_combine_normalize.pkl', 'rb') as f:\n",
    "            X_train,y_train,X_val,y_val,X_test,y_test,y_max = pickle.load(f)\n",
    "        \n",
    "        self.X_val = X_val[:,0:34]\n",
    "        self.y_val = y2label(y_val[:,0],y_max[0])\n",
    "        \n",
    "        self.transform = transform\n",
    "        self.target_transform = target_transform\n",
    "\n",
    "    def __len__(self):\n",
    "        return self.X_val.shape[0]\n",
    "\n",
    "    def __getitem__(self, idx):\n",
    "        \n",
    "        #image = torchvision.transforms.functional.to_tensor(np.array(image.resize((240,320),Image.BILINEAR)))\n",
    "        #label = tensor(self.label2vec(label))\n",
    "        \n",
    "        x_val = tensor(self.X_val[idx,:])\n",
    "        label = tensor(self.y_val[idx])\n",
    "    \n",
    "        return x_val,label\n",
    "\n",
    "class Test_Label_Dataset(Dataset):\n",
    "    def __init__(self, path=\"DataSet_2021_8_5_filter_combine_normalize.pkl\",transform=None, target_transform=None):\n",
    "        \n",
    "        with open('DataSet_2021_8_5_filter_combine_normalize.pkl', 'rb') as f:\n",
    "            X_train,y_train,X_val,y_val,X_test,y_test,y_max = pickle.load(f)\n",
    "        \n",
    "        self.X_test = X_test[:,0:34]\n",
    "        self.y_test = y2label(y_test[:,0],y_max[0])\n",
    "        \n",
    "        self.transform = transform\n",
    "        self.target_transform = target_transform\n",
    "\n",
    "    def __len__(self):\n",
    "        return self.X_test.shape[0]\n",
    "\n",
    "    def __getitem__(self, idx):\n",
    "        \n",
    "        #image = torchvision.transforms.functional.to_tensor(np.array(image.resize((240,320),Image.BILINEAR)))\n",
    "        #label = tensor(self.label2vec(label))\n",
    "        \n",
    "        x_test = tensor(self.X_test[idx,:])\n",
    "        label = tensor(self.y_test[idx])\n",
    "    \n",
    "        return x_test,label"
   ]
  },
  {
   "cell_type": "code",
   "execution_count": 28,
   "id": "843a6bcb",
   "metadata": {},
   "outputs": [],
   "source": [
    "def train_classifier(train_loader, classifier, criterion, optimizer,show_interval = 3000):\n",
    "    classifier.train()\n",
    "    loss_ = 0.0\n",
    "    losses = []\n",
    "    acc = []\n",
    "    # f1_list = []\n",
    "    for i, (images, labels) in enumerate(train_loader):\n",
    "        labels = torch.tensor(np.array(labels))\n",
    "        images, labels = images.to(torch.float32).to(device), labels.to(torch.int64).to(device)\n",
    "        \n",
    "        logits = classifier(images)\n",
    "        loss = criterion(logits,labels)\n",
    "        loss = loss.requires_grad_()\n",
    "        \n",
    "        if i % show_interval == 0:\n",
    "            print(i*args.batch_size)\n",
    "            # acc_new = acc_cal(logits.detach(),labels.numpy())\n",
    "            acc_new = acc_f1_cal_multi(logits.detach(),labels.numpy())\n",
    "            acc += np.mean(acc_new)\n",
    "            # f1_list += [f1]\n",
    "            \n",
    "        optimizer.zero_grad()\n",
    "        loss.backward()\n",
    "        optimizer.step()\n",
    "        losses.append(loss.detach())\n",
    "        \n",
    "    return torch.stack(losses).mean().item(),np.mean(acc)\n",
    "\n",
    "def train_classifier_cnn(train_loader, classifier, criterion, optimizer,show_interval = 3000):\n",
    "    classifier.train()\n",
    "    loss_ = 0.0\n",
    "    losses = []\n",
    "    acc = []\n",
    "    # f1_list = []\n",
    "    for i, (images, labels) in enumerate(train_loader):\n",
    "        labels = torch.tensor(np.array(labels))\n",
    "        images, labels = images.to(torch.float32).to(device), labels.to(torch.int64).to(device)\n",
    "        \n",
    "        images = images.reshape((images.shape[0],1,images.shape[1]))\n",
    "        logits = classifier(images)\n",
    "        logits = logits.reshape((logits.shape[0],logits.shape[2]))\n",
    "        loss = criterion(logits,labels)\n",
    "        loss = loss.requires_grad_()\n",
    "        \n",
    "        if i % show_interval == 0:\n",
    "            print(i*args.batch_size)\n",
    "            # acc_new = acc_cal(logits.detach(),labels.numpy())\n",
    "            # acc_new,_ = acc_f1_cal_multi(logits.detach(),labels.numpy())\n",
    "            # acc += np.mean(acc_new)\n",
    "            # f1_list += [f1]\n",
    "            \n",
    "        optimizer.zero_grad()\n",
    "        loss.backward()\n",
    "        optimizer.step()\n",
    "        losses.append(loss.detach())\n",
    "        \n",
    "    return torch.stack(losses).mean().item()\n",
    "    \n",
    "def test_classifier(test_loader, classifier, criterion, print_ind_classes=True):\n",
    "    classifier.eval()\n",
    "    losses = []\n",
    "    acc = []\n",
    "    logits_all = np.zeros((0,4))\n",
    "    labels_all = np.zeros((0))\n",
    "    with torch.no_grad():\n",
    "        for i, (images, labels) in enumerate(test_loader):\n",
    "            labels = torch.tensor(np.array(labels))\n",
    "            images, labels = images.to(torch.float32).to(device), labels.to(torch.int64).to(device)\n",
    "\n",
    "            logits = classifier(images)\n",
    "            # print(logits.shape,labels.shape)\n",
    "            logits_all = np.vstack((logits_all,logits.detach()))\n",
    "            labels_all = np.hstack((labels_all,labels))\n",
    "            # acc_new = acc_cal(logits,labels)\n",
    "            # acc += [acc_new]\n",
    "            \n",
    "            loss = criterion(logits,labels)\n",
    "            losses.append(loss.detach())\n",
    "        \n",
    "        test_loss = torch.stack(losses).mean().item()\n",
    "    return test_loss,acc_f1_cal_multi(logits_all,labels_all)\n",
    "\n",
    "def test_classifier_cnn(test_loader, classifier, criterion, print_ind_classes=True):\n",
    "    classifier.eval()\n",
    "    losses = []\n",
    "    acc = []\n",
    "    logits_all = np.zeros((0,4))\n",
    "    labels_all = np.zeros((0))\n",
    "    with torch.no_grad():\n",
    "        for i, (images, labels) in enumerate(test_loader):\n",
    "            labels = torch.tensor(np.array(labels))\n",
    "            images, labels = images.to(torch.float32).to(device), labels.to(torch.int64).to(device)\n",
    "\n",
    "            images = images.reshape((images.shape[0],1,images.shape[1]))\n",
    "            logits = classifier(images)\n",
    "            logits = logits.reshape((logits.shape[0],logits.shape[2]))\n",
    "            # print(logits.shape,labels.shape)\n",
    "            logits_all = np.vstack((logits_all,logits.detach().cpu()))\n",
    "            labels_all = np.hstack((labels_all,labels.cpu()))\n",
    "            # acc_new = acc_cal(logits,labels)\n",
    "            # acc += [acc_new]\n",
    "            \n",
    "            loss = criterion(logits,labels)\n",
    "            losses.append(loss.detach())\n",
    "        \n",
    "        test_loss = torch.stack(losses).mean().item()\n",
    "    return test_loss,acc_f1_cal_multi(logits_all,labels_all)\n",
    "\n",
    "def acc_cal(logits,labels,show = False):\n",
    "    pred_labels = np.argmax(logits,1)\n",
    "    pred_flags = pred_labels == labels\n",
    "    acc = np.sum(pred_flags)/pred_labels.shape[0]\n",
    "    if(show):\n",
    "        print(pred_labels)\n",
    "    return acc\n",
    "\n",
    "def acc_f1_cal_multi(logits,labels):\n",
    "    # print(logits.shape,labels.shape)\n",
    "    labels = labels.astype(np.int32)\n",
    "    logits = np.argmax(logits,1)\n",
    "    f1 = f1_score(logits,labels,average=None)\n",
    "    label_set = set([0,1,2,3])\n",
    "    acc = np.zeros((len(label_set)))\n",
    "    for label in label_set:\n",
    "        index = labels == label\n",
    "        print(label,np.sum(index))\n",
    "        acc[label] = np.sum(logits[index] == labels[index])/(len(labels[index]))\n",
    "    return acc,f1"
   ]
  },
  {
   "cell_type": "markdown",
   "id": "2bbf8ccf",
   "metadata": {},
   "source": [
    "### Hyper Parameters Settings"
   ]
  },
  {
   "cell_type": "code",
   "execution_count": 13,
   "id": "d9f47ef1",
   "metadata": {},
   "outputs": [],
   "source": [
    "class paras():\n",
    "    def __init__(self):\n",
    "        self.batch_size = None\n",
    "        self.classes = None"
   ]
  },
  {
   "cell_type": "code",
   "execution_count": 14,
   "id": "f9a2bc0a",
   "metadata": {},
   "outputs": [],
   "source": [
    "args = paras()\n",
    "args.batch_size = 128\n",
    "#args.classes = 20"
   ]
  },
  {
   "cell_type": "markdown",
   "id": "b9e1e289",
   "metadata": {},
   "source": [
    "### Dataloader Initial"
   ]
  },
  {
   "cell_type": "code",
   "execution_count": 15,
   "id": "ddc90545",
   "metadata": {},
   "outputs": [],
   "source": [
    "train_dataset = Train_Dataset()\n",
    "val_dataset = Val_Dataset()\n",
    "test_dataset = Test_Dataset()\n",
    "\n",
    "train_label_dataset = Train_Label_Dataset()\n",
    "val_label_dataset = Val_Label_Dataset()\n",
    "test_label_dataset = Test_Label_Dataset()"
   ]
  },
  {
   "cell_type": "code",
   "execution_count": 16,
   "id": "4831a977",
   "metadata": {},
   "outputs": [],
   "source": [
    "train_dataloader = DataLoader(train_dataset, batch_size=args.batch_size, shuffle=False)\n",
    "val_dataloader = DataLoader(val_dataset, batch_size=args.batch_size, shuffle=True)\n",
    "test_dataloader = DataLoader(test_dataset, batch_size=args.batch_size, shuffle=True)"
   ]
  },
  {
   "cell_type": "code",
   "execution_count": 17,
   "id": "c6ea4411",
   "metadata": {},
   "outputs": [],
   "source": [
    "train_label_dataloader = DataLoader(train_label_dataset, batch_size=args.batch_size, shuffle=False)\n",
    "val_label_dataloader = DataLoader(val_label_dataset, batch_size=args.batch_size, shuffle=True)\n",
    "test_label_dataloader = DataLoader(test_label_dataset, batch_size=args.batch_size, shuffle=True)"
   ]
  },
  {
   "cell_type": "markdown",
   "id": "663ccedc",
   "metadata": {},
   "source": [
    "### Model Initialize"
   ]
  },
  {
   "cell_type": "code",
   "execution_count": 18,
   "id": "19ebfe2b",
   "metadata": {},
   "outputs": [],
   "source": [
    "device = torch.device(\"cuda:0\" if torch.cuda.is_available() else \"cpu\")"
   ]
  },
  {
   "cell_type": "code",
   "execution_count": 159,
   "id": "04ff3268",
   "metadata": {},
   "outputs": [],
   "source": [
    "class MLP_BN(nn.Module):\n",
    "    def __init__(self, input_size,output_size):\n",
    "        super().__init__()\n",
    "        self.fc1 = nn.Linear(input_size, 2*input_size)\n",
    "        nn.init.kaiming_normal_(self.fc1.weight)\n",
    "        self.BN1 = nn.BatchNorm1d(2*input_size)\n",
    "        \n",
    "        self.fc2 = nn.Linear(2*input_size, 4*input_size)\n",
    "        nn.init.kaiming_normal_(self.fc2.weight)\n",
    "        self.BN2 = nn.BatchNorm1d(4*input_size)\n",
    "        \n",
    "        \n",
    "        self.fc3 = nn.Linear(4*input_size, input_size)\n",
    "        nn.init.kaiming_normal_(self.fc3.weight)\n",
    "        self.BN3 = nn.BatchNorm1d(input_size)\n",
    "        \n",
    "        self.fc4 = nn.Linear(input_size, 8)\n",
    "        nn.init.kaiming_normal_(self.fc4.weight)\n",
    "        self.BN4 = nn.BatchNorm1d(8)\n",
    "        \n",
    "        self.fc5 = nn.Linear(8, output_size)\n",
    "        nn.init.kaiming_normal_(self.fc5.weight)\n",
    "        \n",
    "        \n",
    "    \n",
    "    def forward(self, x):\n",
    "        # forward always defines connectivity\n",
    "        #x = flatten(x)\n",
    "        #scores = self.fc2(F.relu(self.fc1(x)))\n",
    "        #print(x.shape)\n",
    "        x = torch.tensor(x).to(torch.float32)\n",
    "        x = self.BN1(F.relu(self.fc1(x)))\n",
    "        x = self.BN2(F.relu(self.fc2(x)))\n",
    "        x = self.BN3(F.relu(self.fc3(x)))\n",
    "        x = self.BN4(F.relu(self.fc4(x)))\n",
    "        x = F.relu(self.fc5(x))\n",
    "        \n",
    "        return x\n",
    "    \n",
    "class DeepMLP(nn.Module):\n",
    "    def __init__(self, input_size,output_size):\n",
    "        super().__init__()\n",
    "        self.fc1 = nn.Linear(input_size, 2*input_size)\n",
    "        nn.init.kaiming_normal_(self.fc1.weight)\n",
    "        \n",
    "        self.fc2 = nn.Linear(2*input_size, 4*input_size)\n",
    "        nn.init.kaiming_normal_(self.fc2.weight)\n",
    "        \n",
    "        self.fc3 = nn.Linear(4*input_size, 8*input_size)\n",
    "        nn.init.kaiming_normal_(self.fc3.weight)\n",
    "        \n",
    "        self.fc4 = nn.Linear(8*input_size, input_size)\n",
    "        nn.init.kaiming_normal_(self.fc4.weight)\n",
    "        \n",
    "        self.fc5 = nn.Linear(input_size, input_size//4)\n",
    "        nn.init.kaiming_normal_(self.fc5.weight)\n",
    "        \n",
    "        self.fc6 = nn.Linear(input_size//4, output_size)\n",
    "        nn.init.kaiming_normal_(self.fc6.weight)\n",
    "        \n",
    "    \n",
    "    def forward(self, x):\n",
    "        # forward always defines connectivity\n",
    "        #x = flatten(x)\n",
    "        #scores = self.fc2(F.relu(self.fc1(x)))\n",
    "        #print(x.shape)\n",
    "        x0 = torch.tensor(x).to(torch.float32)\n",
    "        x = nn.LeakyReLU(0.3)(self.fc1(x0))\n",
    "        x = nn.LeakyReLU(0.2)(self.fc2(x))\n",
    "        x = nn.LeakyReLU(0.18)(self.fc3(x))\n",
    "        \n",
    "        x = nn.LeakyReLU(0.15)(self.fc4(x))+x0 #residual here\n",
    "        \n",
    "        x = nn.LeakyReLU(0.1)(self.fc5(x))\n",
    "        x = torch.sigmoid(self.fc6(x))\n",
    "        \n",
    "        return x    \n",
    "class TestMLP(nn.Module):\n",
    "    def __init__(self, input_size,output_size):\n",
    "        super().__init__()\n",
    "        self.fc1 = nn.Linear(input_size, 2*input_size)\n",
    "        nn.init.kaiming_normal_(self.fc1.weight)\n",
    "        \n",
    "        self.fc2 = nn.Linear(2*input_size, 4*input_size)\n",
    "        nn.init.kaiming_normal_(self.fc2.weight)\n",
    "        \n",
    "        self.fc3 = nn.Linear(4*input_size, input_size)\n",
    "        nn.init.kaiming_normal_(self.fc3.weight)\n",
    "        \n",
    "        self.fc4 = nn.Linear(input_size, 8)\n",
    "        nn.init.kaiming_normal_(self.fc4.weight)\n",
    "        \n",
    "        self.fc5 = nn.Linear(8, output_size)\n",
    "        nn.init.kaiming_normal_(self.fc5.weight)\n",
    "        \n",
    "        \n",
    "    \n",
    "    def forward(self, x):\n",
    "        # forward always defines connectivity\n",
    "        #x = flatten(x)\n",
    "        #scores = self.fc2(F.relu(self.fc1(x)))\n",
    "        #print(x.shape)\n",
    "        x = torch.tensor(x).to(torch.float32)\n",
    "        x = F.relu(self.fc1(x))\n",
    "        x = F.relu(self.fc2(x))\n",
    "        x = F.relu(self.fc3(x))\n",
    "        x = F.relu(self.fc4(x))\n",
    "        x = F.relu(self.fc5(x))\n",
    "        \n",
    "        return x\n",
    "\n",
    "class MLP1DCNN(nn.Module):\n",
    "    # 两层卷积 + MLP\n",
    "    def __init__(self, input_size,output_size):\n",
    "        super().__init__()\n",
    "        self.conv1 = nn.Conv1d(1,1,5,padding = 1)\n",
    "        self.conv2 = nn.Conv1d(1,1,3)\n",
    "        self.conv3 = nn.Conv1d(1,1,7,padding = 2)\n",
    "        self.conv4 = nn.Conv1d(3,1,5)\n",
    "        \n",
    "        self.fc1 = nn.Linear(28, 2*input_size)\n",
    "        nn.init.kaiming_normal_(self.fc1.weight)\n",
    "        \n",
    "        self.fc2 = nn.Linear(2*input_size, 4*input_size)\n",
    "        nn.init.kaiming_normal_(self.fc2.weight)\n",
    "        \n",
    "        self.fc3 = nn.Linear(4*input_size, input_size)\n",
    "        nn.init.kaiming_normal_(self.fc3.weight)\n",
    "        \n",
    "        self.fc4 = nn.Linear(input_size, 8)\n",
    "        nn.init.kaiming_normal_(self.fc4.weight)\n",
    "        \n",
    "        self.fc5 = nn.Linear(8, output_size)\n",
    "        nn.init.kaiming_normal_(self.fc5.weight)\n",
    "        \n",
    "        \n",
    "    \n",
    "    def forward(self, x):\n",
    "        # forward always defines connectivity\n",
    "        #x = flatten(x)\n",
    "        #scores = self.fc2(F.relu(self.fc1(x)))\n",
    "        #print(x.shape)\n",
    "        x = torch.tensor(x).to(torch.float32)\n",
    "\n",
    "        x1 = self.conv1(x)\n",
    "        x2 = self.conv2(x)\n",
    "        x3 = self.conv3(x)\n",
    "        x_sum = torch.cat((x1,x2,x3),axis = 1)\n",
    "        x = self.conv4(x_sum)\n",
    "#         x = self.conv2(x)\n",
    "        x = F.relu(self.fc1(x))\n",
    "        x = F.relu(self.fc2(x))\n",
    "        x = F.relu(self.fc3(x))\n",
    "        x = F.relu(self.fc4(x))\n",
    "\n",
    "        x = F.relu(self.fc5(x))\n",
    "\n",
    "        return x"
   ]
  },
  {
   "cell_type": "markdown",
   "id": "f90afd88",
   "metadata": {},
   "source": [
    "model = DeepMLP(X_train.shape[1],1)\n",
    "classifier = model.to(device)\n",
    "\n",
    "criterion = torch.nn.L1Loss()\n",
    "criterion = criterion.to(device)"
   ]
  },
  {
   "cell_type": "code",
   "execution_count": 160,
   "id": "daaeffd9",
   "metadata": {},
   "outputs": [],
   "source": [
    "# label_classifier = torch.load(\"label_classifier.pt\")"
   ]
  },
  {
   "cell_type": "code",
   "execution_count": 161,
   "id": "d446a253",
   "metadata": {},
   "outputs": [],
   "source": [
    "# label classifier model\n",
    "model = MLP1DCNN(X_train.shape[1],4)\n",
    "classifier = model.to(device)\n",
    "\n",
    "criterion = torch.nn.CrossEntropyLoss()\n",
    "criterion = criterion.to(device)"
   ]
  },
  {
   "cell_type": "markdown",
   "id": "afad21e5",
   "metadata": {},
   "source": [
    "### Optimizer Settings"
   ]
  },
  {
   "cell_type": "code",
   "execution_count": 162,
   "id": "869f44dc",
   "metadata": {},
   "outputs": [],
   "source": [
    "lr = 0.001\n",
    "moment = 0.8\n",
    "epoch_sum = 0\n",
    "\n",
    "optimizer = torch.optim.Adam(filter(lambda p: p.requires_grad, classifier.parameters()), lr=lr)\n",
    "# optimizer = torch.optim.SGD(filter(lambda p: p.requires_grad, classifier.parameters()), lr=lr, momentum=moment)"
   ]
  },
  {
   "cell_type": "code",
   "execution_count": 163,
   "id": "74f2890e",
   "metadata": {},
   "outputs": [],
   "source": [
    "if epoch_sum == 0:\n",
    "    train_loss_list = []\n",
    "    val_loss_list = []\n",
    "    val_f1_list = []\n",
    "    time_list = []"
   ]
  },
  {
   "cell_type": "code",
   "execution_count": null,
   "id": "7b84e79e",
   "metadata": {},
   "outputs": [
    {
     "name": "stdout",
     "output_type": "stream",
     "text": [
      "Starting epoch number 0\n",
      "0\n"
     ]
    },
    {
     "name": "stderr",
     "output_type": "stream",
     "text": [
      "/usr/local/lib/python3.6/dist-packages/ipykernel_launcher.py:143: UserWarning: To copy construct from a tensor, it is recommended to use sourceTensor.clone().detach() or sourceTensor.clone().detach().requires_grad_(True), rather than torch.tensor(sourceTensor).\n"
     ]
    },
    {
     "name": "stdout",
     "output_type": "stream",
     "text": [
      "384000\n",
      "768000\n",
      "1152000\n",
      "Loss for Training on Epoch 0 is 1.386067271232605\n",
      "Time for epoch 0 is 94.47874712944031\n",
      "0 4011\n",
      "1 10114\n",
      "2 9061\n",
      "3 5956\n",
      "Evaluating classifier\n",
      "Loss for validation on Epoch0 is (1.3862950801849365, (array([0.99975069, 0.        , 0.        , 0.        ]), array([0.24191602, 0.        , 0.        , 0.        ])))\n",
      "Starting epoch number 1\n",
      "0\n"
     ]
    },
    {
     "name": "stderr",
     "output_type": "stream",
     "text": [
      "/usr/local/lib/python3.6/dist-packages/ipykernel_launcher.py:143: UserWarning: To copy construct from a tensor, it is recommended to use sourceTensor.clone().detach() or sourceTensor.clone().detach().requires_grad_(True), rather than torch.tensor(sourceTensor).\n"
     ]
    }
   ],
   "source": [
    "# Train the Label Classifier Model\n",
    "NUM_EPOCHS = 15\n",
    "TEST_FREQUENCY = 1\n",
    "time_start = time.time()\n",
    "for epoch in range(1, NUM_EPOCHS+1):\n",
    "    time_epoch_start = time.time()\n",
    "    print(\"Starting epoch number \" + str(epoch_sum))\n",
    "    train_loss = train_classifier_cnn(train_label_dataloader, classifier, criterion, optimizer)\n",
    "    train_loss_list += [train_loss]\n",
    "    print(\"Loss for Training on Epoch \" +str(epoch_sum) + \" is \"+ str(train_loss))\n",
    "    \n",
    "    #plt.plot(train_loss_list)\n",
    "    time_epoch_end = time.time()\n",
    "    time_one_epoch = time_epoch_end - time_epoch_start\n",
    "    time_list += [time_one_epoch]\n",
    "    print(\"Time for epoch {} is {}\".format(epoch_sum,time_one_epoch))\n",
    "    \n",
    "    \n",
    "    if(epoch_sum%TEST_FREQUENCY==0):\n",
    "        val_loss= test_classifier_cnn(val_label_dataloader, classifier, criterion)\n",
    "        val_loss_list += [val_loss]\n",
    "        print('Evaluating classifier')\n",
    "        print(\"Loss for validation on Epoch\"+str(epoch_sum)+\" is \"+str(val_loss))\n",
    "    \n",
    "    epoch_sum += 1\n",
    "    \n",
    "    \n",
    "    "
   ]
  },
  {
   "cell_type": "code",
   "execution_count": 201,
   "id": "c69a7607",
   "metadata": {},
   "outputs": [],
   "source": [
    "torch.save(model,\"label_classifier_mod.pt\")"
   ]
  },
  {
   "cell_type": "code",
   "execution_count": 207,
   "id": "c2c33490",
   "metadata": {},
   "outputs": [
    {
     "data": {
      "text/plain": [
       "Text(0.5, 1.0, 'Loss Curve')"
      ]
     },
     "execution_count": 207,
     "metadata": {},
     "output_type": "execute_result"
    },
    {
     "data": {
      "image/png": "[encoded data removed]",
      "text/plain": [
       "<Figure size 432x288 with 1 Axes>"
      ]
     },
     "metadata": {
      "needs_background": "light"
     },
     "output_type": "display_data"
    }
   ],
   "source": [
    "plt.plot(train_loss_list,label=\"Train Loss\")\n",
    "plt.plot(val_loss_list1,label=\"Validation Loss\")\n",
    "\n",
    "plt.legend()\n",
    "plt.title(\"Loss Curve\")"
   ]
  },
  {
   "cell_type": "code",
   "execution_count": 111,
   "id": "d61f3471",
   "metadata": {},
   "outputs": [],
   "source": [
    "#torch.save(classifier,\"Only_MLP_\"+\"epoch{}.pt\".format(epoch_sum))"
   ]
  },
  {
   "cell_type": "markdown",
   "id": "afb69160",
   "metadata": {},
   "source": [
    "### Predict with test dataset"
   ]
  },
  {
   "cell_type": "code",
   "execution_count": 1,
   "id": "d8d2c7ef",
   "metadata": {},
   "outputs": [],
   "source": [
    "def predict_se(model, X_test, y_test, dataset_SE_max, plot=True):\n",
    "    print(\"[INFO] predicting...\")\n",
    "    X_test = torch.tensor(X_test).to(device)\n",
    "    preds = model.forward(X_test)\n",
    "    preds = preds.cpu().detach().numpy().flatten()\n",
    "    y_test = y_test.flatten()\n",
    "    diff = abs(preds-y_test)*dataset_SE_max\n",
    "    # choose how many bins you want here\n",
    "    num_bins = 30\n",
    "    # use the histogram function to bin the data\n",
    "    counts, bin_edges = np.histogram(diff, bins=num_bins)\n",
    "    # now find the cdf\n",
    "    cdf = np.cumsum(counts)\n",
    "    # and finally plot the cdf\n",
    "    if plot:\n",
    "        plt.plot(bin_edges[1:], cdf)\n",
    "        plt.xlabel('Absolute Error (Mbit/Number)')\n",
    "        plt.ylabel('Count')\n",
    "        plt.title('Error CDF')\n",
    "        plt.show()\n",
    "    diff_percen = abs(preds-y_test)/y_test\n",
    "    mean = np.mean(abs(diff))\n",
    "    std = np.std(diff)\n",
    "    print(\"[INFO] error mean: {:.3f}, std: {:.3f}\".format(mean, std))\n",
    "    mean = np.mean(abs(diff_percen))\n",
    "    std = np.std(diff_percen)\n",
    "    print(\"[INFO] percentage error mean: {:.3f}, std: {:.3f}\" .format(mean, std))\n",
    "    axis_lim = y_test.mean()*dataset_SE_max*2\n",
    "    # mean absolute percentage error by sections\n",
    "    diff_with_y = np.hstack((y_test[:,np.newaxis]*dataset_SE_max, diff_percen[:,np.newaxis]))\n",
    "    sort_indices = np.argsort(diff_with_y[:,0])\n",
    "    diff_with_y = diff_with_y[sort_indices,:]\n",
    "    mape_sections = np.array([1000, 1500, 2500, np.iinfo(int).max])\n",
    "    mape_sections_mean = np.empty(len(mape_sections))\n",
    "    idx_section = 0\n",
    "    diff_id_section = 0\n",
    "    for i in range(len(diff_with_y)):\n",
    "        if diff_with_y[i,0]>mape_sections[idx_section] or i == len(diff_with_y)-1:\n",
    "            mape_sections_mean[idx_section] = np.mean(diff_with_y[diff_id_section:i,1])\n",
    "            diff_id_section = i\n",
    "            idx_section = idx_section + 1\n",
    "    print(\"[INFO] MAPE by sections: \", np.around(mape_sections_mean, decimals=2))\n",
    "    if plot:\n",
    "        plt.figure()\n",
    "        plt.plot(preds.flatten()*dataset_SE_max, y_test*dataset_SE_max, '.')\n",
    "        plt.plot([0, axis_lim], [0, axis_lim])\n",
    "        plt.axis([0, axis_lim, 0, axis_lim])\n",
    "        plt.xlabel('Prediction (Mbit/Number)')\n",
    "        plt.ylabel('Ground Truth (Mbit/Number)')\n",
    "        plt.title('Spectral Efficiency')\n",
    "        plt.show()\n",
    "\n",
    "def VisPredict(model,plotOn,X_train,y_train,X_val,y_val,X_test,y_test,dataset_SE_max):\n",
    "    # make predictions on the testing data\n",
    "    predict_se(model, X_train, y_train, dataset_SE_max, plotOn)\n",
    "    predict_se(model, X_val, y_val, dataset_SE_max, plotOn)\n",
    "    predict_se(model, X_test, y_test, dataset_SE_max, plotOn)\n",
    "    if plotOn:\n",
    "        dot_img_file = 'figures/model_1.png'\n",
    "        #tf.keras.utils.plot_model(model, to_file=dot_img_file, show_shapes=True)"
   ]
  },
  {
   "cell_type": "markdown",
   "id": "db89d68a",
   "metadata": {},
   "source": [
    "### Predict Results"
   ]
  },
  {
   "cell_type": "code",
   "execution_count": 2,
   "id": "5f719b3c",
   "metadata": {},
   "outputs": [
    {
     "ename": "NameError",
     "evalue": "name 'torch' is not defined",
     "output_type": "error",
     "traceback": [
      "\u001b[1;31m---------------------------------------------------------------------------\u001b[0m",
      "\u001b[1;31mNameError\u001b[0m                                 Traceback (most recent call last)",
      "\u001b[1;32m<ipython-input-2-9da14173e49b>\u001b[0m in \u001b[0;36m<module>\u001b[1;34m\u001b[0m\n\u001b[1;32m----> 1\u001b[1;33m \u001b[0mtorch\u001b[0m\u001b[1;33m.\u001b[0m\u001b[0mcuda\u001b[0m\u001b[1;33m.\u001b[0m\u001b[0mempty_cache\u001b[0m \u001b[1;33m(\u001b[0m\u001b[1;33m)\u001b[0m\u001b[1;33m\u001b[0m\u001b[1;33m\u001b[0m\u001b[0m\n\u001b[0m\u001b[0;32m      2\u001b[0m \u001b[0mVisPredict\u001b[0m\u001b[1;33m(\u001b[0m\u001b[0mmodel\u001b[0m\u001b[1;33m,\u001b[0m\u001b[1;32mTrue\u001b[0m\u001b[1;33m,\u001b[0m\u001b[0mX_train\u001b[0m\u001b[1;33m,\u001b[0m\u001b[0my_train\u001b[0m\u001b[1;33m,\u001b[0m\u001b[0mX_val\u001b[0m\u001b[1;33m,\u001b[0m\u001b[0my_val\u001b[0m\u001b[1;33m,\u001b[0m\u001b[0mX_test\u001b[0m\u001b[1;33m,\u001b[0m\u001b[0my_test\u001b[0m\u001b[1;33m,\u001b[0m\u001b[0my_max\u001b[0m\u001b[1;33m[\u001b[0m\u001b[1;36m0\u001b[0m\u001b[1;33m,\u001b[0m\u001b[1;36m0\u001b[0m\u001b[1;33m]\u001b[0m\u001b[1;33m)\u001b[0m\u001b[1;33m\u001b[0m\u001b[1;33m\u001b[0m\u001b[0m\n",
      "\u001b[1;31mNameError\u001b[0m: name 'torch' is not defined"
     ]
    }
   ],
   "source": [
    "torch.cuda.empty_cache ()\n",
    "VisPredict(model,True,X_train,y_train,X_val,y_val,X_test,y_test,y_max[0,0])"
   ]
  },
  {
   "cell_type": "code",
   "execution_count": null,
   "id": "b5a6773c",
   "metadata": {
    "collapsed": true,
    "jupyter": {
     "outputs_hidden": true
    }
   },
   "outputs": [],
   "source": []
  },
  {
   "cell_type": "code",
   "execution_count": null,
   "id": "3ee26ca7",
   "metadata": {},
   "outputs": [],
   "source": []
  },
  {
   "cell_type": "code",
   "execution_count": null,
   "id": "abfbf804",
   "metadata": {},
   "outputs": [],
   "source": []
  },
  {
   "cell_type": "code",
   "execution_count": null,
   "id": "28f6bbbe",
   "metadata": {},
   "outputs": [],
   "source": []
  }
 ],
 "metadata": {
  "interpreter": {
   "hash": "d5146f3029d6424cdc6ef191d54c22462012605892d6b80a61222a44e90cce02"
  },
  "kernelspec": {
   "display_name": "Python 3",
   "language": "python",
   "name": "python3"
  },
  "language_info": {
   "codemirror_mode": {
    "name": "ipython",
    "version": 3
   },
   "file_extension": ".py",
   "mimetype": "text/x-python",
   "name": "python",
   "nbconvert_exporter": "python",
   "pygments_lexer": "ipython3",
   "version": "3.6.9"
  }
 },
 "nbformat": 4,
 "nbformat_minor": 5
}
